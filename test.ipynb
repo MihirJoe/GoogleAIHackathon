{
 "cells": [
  {
   "cell_type": "code",
   "execution_count": 1,
   "metadata": {},
   "outputs": [],
   "source": [
    "import google.generativeai as genai\n",
    "import os"
   ]
  },
  {
   "cell_type": "code",
   "execution_count": 2,
   "metadata": {},
   "outputs": [
    {
     "data": {
      "text/plain": [
       "True"
      ]
     },
     "execution_count": 2,
     "metadata": {},
     "output_type": "execute_result"
    }
   ],
   "source": [
    "# 1. Obtain API Key from Google AI Studio\n",
    "\n",
    "# 2. run the following commands in Mac terminal:\n",
    "# a. echo \"export GOOGLE_API_KEY='yourkey'\" >> ~/.zshrc\n",
    "# b. update shell with new variable: source ~/.zshrc\n",
    "# c. confirm it's saved using:  echo $GOOGLE_API_KEY\n",
    "# d. restart IDE \n",
    "\n",
    "os.environ.__contains__(\"GOOGLE_API_KEY\") # checks if environment contains API key"
   ]
  },
  {
   "cell_type": "code",
   "execution_count": 3,
   "metadata": {},
   "outputs": [],
   "source": [
    "# Configure Gemini API Key\n",
    "genai.configure(api_key=os.environ[\"GOOGLE_API_KEY\"])"
   ]
  },
  {
   "cell_type": "code",
   "execution_count": 7,
   "metadata": {},
   "outputs": [
    {
     "name": "stdout",
     "output_type": "stream",
     "text": [
      "Imagine you're exploring a new town with lots of houses and streets. You want to find a specific house, but you don't know where it is.\n",
      "\n",
      "Breadth First Search is like taking a walk through the town to find that house. Here's how it works:\n",
      "\n",
      "* Start at the first house. Let's call this the \"root\" house.\n",
      "* Visit all the houses that are connected to the root house. These are called \"children\" houses.\n",
      "* Then, visit all the houses that are connected to the children houses. These are called \"grandchildren\" houses.\n",
      "* Keep going in this way, visiting houses that are connected to the ones you've already visited.\n",
      "\n",
      "It's like spreading out a big net to catch the house you're looking for. You start at the center and gradually expand your search until you find it.\n",
      "\n",
      "Breadth First Search is a great way to explore new towns, find friends in a big maze, or even solve puzzles. It's like having a map that you fill in as you go along.\n"
     ]
    }
   ],
   "source": [
    "# Create a model and run a prompt\n",
    "model = genai.GenerativeModel('gemini-1.0-pro-latest')\n",
    "prompt = \"Explain breadth first search as if I am 10 years old\"\n",
    "response = model.generate_content(prompt)\n",
    "print(response.text)"
   ]
  },
  {
   "cell_type": "code",
   "execution_count": null,
   "metadata": {},
   "outputs": [],
   "source": []
  }
 ],
 "metadata": {
  "kernelspec": {
   "display_name": "base",
   "language": "python",
   "name": "python3"
  },
  "language_info": {
   "codemirror_mode": {
    "name": "ipython",
    "version": 3
   },
   "file_extension": ".py",
   "mimetype": "text/x-python",
   "name": "python",
   "nbconvert_exporter": "python",
   "pygments_lexer": "ipython3",
   "version": "3.11.5"
  }
 },
 "nbformat": 4,
 "nbformat_minor": 2
}
